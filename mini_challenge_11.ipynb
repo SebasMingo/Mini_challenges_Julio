{
 "cells": [
  {
   "cell_type": "markdown",
   "metadata": {},
   "source": [
    "Clase de Punto 2D: Crea una clase Punto2D con atributos x & y, y un método para imprimir sus coordenadas."
   ]
  },
  {
   "cell_type": "code",
   "execution_count": 1,
   "metadata": {},
   "outputs": [
    {
     "name": "stdout",
     "output_type": "stream",
     "text": [
      "Coordenadas del punto: (3, 4)\n"
     ]
    }
   ],
   "source": [
    "class Punto2D:\n",
    "    def __init__(self, x, y):\n",
    "        self.x = x\n",
    "        self.y = y\n",
    "\n",
    "    def imprimir_coordenadas(self):\n",
    "        print(f'Coordenadas del punto: ({self.x}, {self.y})')\n",
    "\n",
    "# Crear una instancia de Punto2D\n",
    "punto = Punto2D(3, 4)\n",
    "\n",
    "# Imprimir las coordenadas del punto\n",
    "punto.imprimir_coordenadas()\n"
   ]
  }
 ],
 "metadata": {
  "kernelspec": {
   "display_name": "Python 3",
   "language": "python",
   "name": "python3"
  },
  "language_info": {
   "codemirror_mode": {
    "name": "ipython",
    "version": 3
   },
   "file_extension": ".py",
   "mimetype": "text/x-python",
   "name": "python",
   "nbconvert_exporter": "python",
   "pygments_lexer": "ipython3",
   "version": "3.12.3"
  }
 },
 "nbformat": 4,
 "nbformat_minor": 2
}
