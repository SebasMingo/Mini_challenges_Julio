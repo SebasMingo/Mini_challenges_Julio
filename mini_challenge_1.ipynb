{
 "cells": [
  {
   "cell_type": "markdown",
   "metadata": {},
   "source": [
    "Búsqueda en lista ordenada: Implementa una función de búsqueda binaria que determine si un número está en una lista ordenada de 10 elementos."
   ]
  },
  {
   "cell_type": "code",
   "execution_count": 5,
   "metadata": {},
   "outputs": [
    {
     "name": "stdout",
     "output_type": "stream",
     "text": [
      "True\n"
     ]
    }
   ],
   "source": [
    "def busqueda_binaria(lista, objetivo):\n",
    "    inicio = 0\n",
    "    fin = len(lista) - 1\n",
    "    \n",
    "    while inicio <= fin:\n",
    "        medio = (inicio + fin) // 2\n",
    "        if lista[medio] == objetivo:\n",
    "            return True  # El elemento está en la lista\n",
    "        elif lista[medio] < objetivo:\n",
    "            inicio = medio + 1  # Buscar en la mitad derecha\n",
    "        else:\n",
    "            fin = medio - 1  # Buscar en la mitad izquierda\n",
    "    \n",
    "    return False  # El elemento no está en la lista\n",
    "\n",
    "# Ejemplo de uso\n",
    "lista_ordenada = [1, 3, 5, 7, 9, 11, 13, 15, 17, 19]\n",
    "numero_a_buscar = 11\n",
    "print(busqueda_binaria(lista_ordenada, numero_a_buscar))  # Output: True\n"
   ]
  }
 ],
 "metadata": {
  "kernelspec": {
   "display_name": "Python 3",
   "language": "python",
   "name": "python3"
  },
  "language_info": {
   "codemirror_mode": {
    "name": "ipython",
    "version": 3
   },
   "file_extension": ".py",
   "mimetype": "text/x-python",
   "name": "python",
   "nbconvert_exporter": "python",
   "pygments_lexer": "ipython3",
   "version": "3.12.3"
  }
 },
 "nbformat": 4,
 "nbformat_minor": 2
}
