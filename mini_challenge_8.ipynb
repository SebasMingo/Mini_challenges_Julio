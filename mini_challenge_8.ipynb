{
 "cells": [
  {
   "cell_type": "markdown",
   "metadata": {},
   "source": [
    "Pilas y colas: Implementa las operaciones básicas de una pila y/o una cola para 5 elementos."
   ]
  },
  {
   "cell_type": "code",
   "execution_count": 1,
   "metadata": {},
   "outputs": [
    {
     "name": "stdout",
     "output_type": "stream",
     "text": [
      "Pila después de apilar 1: [1]\n",
      "Pila después de apilar 2: [1, 2]\n",
      "Pila después de apilar 3: [1, 2, 3]\n",
      "Pila después de apilar 4: [1, 2, 3, 4]\n",
      "Pila después de apilar 5: [1, 2, 3, 4, 5]\n",
      "Elemento desapilado: 5\n",
      "Pila después de desapilar: [1, 2, 3, 4]\n",
      "Elemento desapilado: 4\n",
      "Pila después de desapilar: [1, 2, 3]\n",
      "Elemento desapilado: 3\n",
      "Pila después de desapilar: [1, 2]\n",
      "Elemento desapilado: 2\n",
      "Pila después de desapilar: [1]\n",
      "Elemento desapilado: 1\n",
      "Pila después de desapilar: []\n"
     ]
    }
   ],
   "source": [
    "# Crear una pila vacía\n",
    "pila = []\n",
    "\n",
    "# Función para apilar un elemento\n",
    "def apilar(pila, elemento):\n",
    "    pila.append(elemento)\n",
    "\n",
    "# Función para desapilar un elemento\n",
    "def desapilar(pila):\n",
    "    if len(pila) == 0:\n",
    "        return None\n",
    "    return pila.pop()\n",
    "\n",
    "# Función para ver el tope de la pila\n",
    "def ver_tope(pila):\n",
    "    if len(pila) == 0:\n",
    "        return None\n",
    "    return pila[-1]\n",
    "\n",
    "# Apilar 5 elementos\n",
    "elementos = [1, 2, 3, 4, 5]\n",
    "for elemento in elementos:\n",
    "    apilar(pila, elemento)\n",
    "    print(f'Pila después de apilar {elemento}: {pila}')\n",
    "\n",
    "# Desapilar todos los elementos\n",
    "for _ in range(5):\n",
    "    item = desapilar(pila)\n",
    "    print(f'Elemento desapilado: {item}')\n",
    "    print(f'Pila después de desapilar: {pila}')\n"
   ]
  },
  {
   "cell_type": "code",
   "execution_count": 2,
   "metadata": {},
   "outputs": [
    {
     "name": "stdout",
     "output_type": "stream",
     "text": [
      "Cola después de encolar 1: [1]\n",
      "Cola después de encolar 2: [1, 2]\n",
      "Cola después de encolar 3: [1, 2, 3]\n",
      "Cola después de encolar 4: [1, 2, 3, 4]\n",
      "Cola después de encolar 5: [1, 2, 3, 4, 5]\n",
      "Elemento desencolado: 1\n",
      "Cola después de desencolar: [2, 3, 4, 5]\n",
      "Elemento desencolado: 2\n",
      "Cola después de desencolar: [3, 4, 5]\n",
      "Elemento desencolado: 3\n",
      "Cola después de desencolar: [4, 5]\n",
      "Elemento desencolado: 4\n",
      "Cola después de desencolar: [5]\n",
      "Elemento desencolado: 5\n",
      "Cola después de desencolar: []\n"
     ]
    }
   ],
   "source": [
    "# Crear una cola vacía\n",
    "cola = []\n",
    "\n",
    "# Función para encolar un elemento\n",
    "def encolar(cola, elemento):\n",
    "    cola.append(elemento)\n",
    "\n",
    "# Función para desencolar un elemento\n",
    "def desencolar(cola):\n",
    "    if len(cola) == 0:\n",
    "        return None\n",
    "    return cola.pop(0)\n",
    "\n",
    "# Función para ver el frente de la cola\n",
    "def ver_frente(cola):\n",
    "    if len(cola) == 0:\n",
    "        return None\n",
    "    return cola[0]\n",
    "\n",
    "# Encolar 5 elementos\n",
    "elementos = [1, 2, 3, 4, 5]\n",
    "for elemento in elementos:\n",
    "    encolar(cola, elemento)\n",
    "    print(f'Cola después de encolar {elemento}: {cola}')\n",
    "\n",
    "# Desencolar todos los elementos\n",
    "for _ in range(5):\n",
    "    item = desencolar(cola)\n",
    "    print(f'Elemento desencolado: {item}')\n",
    "    print(f'Cola después de desencolar: {cola}')\n"
   ]
  }
 ],
 "metadata": {
  "kernelspec": {
   "display_name": "Python 3",
   "language": "python",
   "name": "python3"
  },
  "language_info": {
   "codemirror_mode": {
    "name": "ipython",
    "version": 3
   },
   "file_extension": ".py",
   "mimetype": "text/x-python",
   "name": "python",
   "nbconvert_exporter": "python",
   "pygments_lexer": "ipython3",
   "version": "3.12.3"
  }
 },
 "nbformat": 4,
 "nbformat_minor": 2
}
