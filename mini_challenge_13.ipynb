{
 "cells": [
  {
   "cell_type": "markdown",
   "metadata": {},
   "source": [
    "Cuenta bancaria: Implementa una clase CuentaBancaria con métodos para depositar y consultar el saldo."
   ]
  },
  {
   "cell_type": "code",
   "execution_count": 3,
   "metadata": {},
   "outputs": [
    {
     "name": "stdout",
     "output_type": "stream",
     "text": [
      "El saldo actual es $100.\n",
      "Has depositado $50. El nuevo saldo es $150.\n",
      "El saldo actual es $150.\n"
     ]
    }
   ],
   "source": [
    "class CuentaBancaria:\n",
    "    def __init__(self, saldo_inicial=0):\n",
    "        # El constructor inicializa la cuenta con un saldo inicial, por defecto es 0\n",
    "        self.saldo = saldo_inicial\n",
    "\n",
    "    def depositar(self, cantidad):\n",
    "        # Método para depositar una cantidad de dinero en la cuenta\n",
    "        if cantidad > 0:\n",
    "            self.saldo += cantidad\n",
    "            print(f\"Has depositado ${cantidad}. El nuevo saldo es ${self.saldo}.\")\n",
    "        else:\n",
    "            print(\"La cantidad a depositar debe ser mayor a 0.\")\n",
    "\n",
    "    def consultar_saldo(self):\n",
    "        # Método para consultar el saldo actual de la cuenta\n",
    "        print(f\"El saldo actual es ${self.saldo}.\")\n",
    "\n",
    "# Ejemplo de uso\n",
    "# Crear una cuenta bancaria con un saldo inicial de 100\n",
    "mi_cuenta = CuentaBancaria(100)\n",
    "\n",
    "# Consultar el saldo inicial\n",
    "mi_cuenta.consultar_saldo()\n",
    "\n",
    "# Depositar 50 en la cuenta\n",
    "mi_cuenta.depositar(50)\n",
    "\n",
    "# Consultar el saldo después del depósito\n",
    "mi_cuenta.consultar_saldo()\n",
    "\n"
   ]
  }
 ],
 "metadata": {
  "kernelspec": {
   "display_name": "Python 3",
   "language": "python",
   "name": "python3"
  },
  "language_info": {
   "codemirror_mode": {
    "name": "ipython",
    "version": 3
   },
   "file_extension": ".py",
   "mimetype": "text/x-python",
   "name": "python",
   "nbconvert_exporter": "python",
   "pygments_lexer": "ipython3",
   "version": "3.12.3"
  }
 },
 "nbformat": 4,
 "nbformat_minor": 2
}
