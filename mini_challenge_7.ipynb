{
 "cells": [
  {
   "cell_type": "markdown",
   "metadata": {},
   "source": [
    "Piloto de eventos (Priority Queue): Implementa una cola de prioridad utilizando una lista para insertar y eliminar 5 elementos."
   ]
  },
  {
   "cell_type": "code",
   "execution_count": 1,
   "metadata": {},
   "outputs": [
    {
     "name": "stdout",
     "output_type": "stream",
     "text": [
      "Cola después de insertar 10: [10]\n",
      "Cola después de insertar 5: [5, 10]\n",
      "Cola después de insertar 20: [5, 10, 20]\n",
      "Cola después de insertar 3: [3, 5, 10, 20]\n",
      "Cola después de insertar 7: [3, 5, 7, 10, 20]\n",
      "Elemento eliminado: 3\n",
      "Cola después de eliminar: [5, 7, 10, 20]\n",
      "Elemento eliminado: 5\n",
      "Cola después de eliminar: [7, 10, 20]\n",
      "Elemento eliminado: 7\n",
      "Cola después de eliminar: [10, 20]\n",
      "Elemento eliminado: 10\n",
      "Cola después de eliminar: [20]\n",
      "Elemento eliminado: 20\n",
      "Cola después de eliminar: []\n"
     ]
    }
   ],
   "source": [
    "# Función para insertar un elemento en la cola de prioridad\n",
    "def insertar(cola, elemento):\n",
    "    cola.append(elemento)\n",
    "    cola.sort()  # Mantener la cola ordenada\n",
    "\n",
    "# Función para eliminar el elemento de mayor prioridad (menor valor)\n",
    "def eliminar(cola):\n",
    "    if not cola:\n",
    "        return None\n",
    "    return cola.pop(0)  # Eliminar y retornar el primer elemento\n",
    "\n",
    "# Crear la cola de prioridad\n",
    "cola_de_prioridad = []\n",
    "\n",
    "# Insertar 5 elementos\n",
    "elementos = [10, 5, 20, 3, 7]\n",
    "for elemento in elementos:\n",
    "    insertar(cola_de_prioridad, elemento)\n",
    "    print(f'Cola después de insertar {elemento}: {cola_de_prioridad}')\n",
    "\n",
    "# Eliminar elementos uno por uno\n",
    "for _ in range(5):\n",
    "    eliminado = eliminar(cola_de_prioridad)\n",
    "    print(f'Elemento eliminado: {eliminado}')\n",
    "    print(f'Cola después de eliminar: {cola_de_prioridad}')\n"
   ]
  }
 ],
 "metadata": {
  "kernelspec": {
   "display_name": "Python 3",
   "language": "python",
   "name": "python3"
  },
  "language_info": {
   "codemirror_mode": {
    "name": "ipython",
    "version": 3
   },
   "file_extension": ".py",
   "mimetype": "text/x-python",
   "name": "python",
   "nbconvert_exporter": "python",
   "pygments_lexer": "ipython3",
   "version": "3.12.3"
  }
 },
 "nbformat": 4,
 "nbformat_minor": 2
}
