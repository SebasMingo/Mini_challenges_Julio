{
 "cells": [
  {
   "cell_type": "markdown",
   "metadata": {},
   "source": [
    "Auto y Motor: Implementa una clase Auto que contenga una instancia de una clase Motor con un método para describir el motor."
   ]
  },
  {
   "cell_type": "code",
   "execution_count": 1,
   "metadata": {},
   "outputs": [
    {
     "name": "stdout",
     "output_type": "stream",
     "text": [
      "Auto Toyota Corolla con Motor Gasolina con 150 CV de potencia\n"
     ]
    }
   ],
   "source": [
    "# Clase Motor\n",
    "class Motor:\n",
    "    def __init__(self, tipo, potencia):\n",
    "        # Inicializa el motor con un tipo (por ejemplo, \"Gasolina\") y una potencia (por ejemplo, \"150 CV\")\n",
    "        self.tipo = tipo\n",
    "        self.potencia = potencia\n",
    "\n",
    "    def describir(self):\n",
    "        # Devuelve una descripción del motor\n",
    "        return f\"Motor {self.tipo} con {self.potencia} de potencia\"\n",
    "\n",
    "# Clase Auto\n",
    "class Auto:\n",
    "    def __init__(self, marca, modelo, motor):\n",
    "        # Inicializa el auto con una marca, modelo y una instancia de Motor\n",
    "        self.marca = marca\n",
    "        self.modelo = modelo\n",
    "        self.motor = motor\n",
    "\n",
    "    def describir_auto(self):\n",
    "        # Devuelve una descripción completa del auto incluyendo la descripción del motor\n",
    "        descripcion_motor = self.motor.describir()\n",
    "        return f\"Auto {self.marca} {self.modelo} con {descripcion_motor}\"\n",
    "\n",
    "# Ejemplo de uso\n",
    "# Crear una instancia de Motor\n",
    "motor = Motor(\"Gasolina\", \"150 CV\")\n",
    "\n",
    "# Crear una instancia de Auto con el motor creado\n",
    "auto = Auto(\"Toyota\", \"Corolla\", motor)\n",
    "\n",
    "# Describir el auto\n",
    "descripcion = auto.describir_auto()\n",
    "print(descripcion)\n"
   ]
  }
 ],
 "metadata": {
  "kernelspec": {
   "display_name": "Python 3",
   "language": "python",
   "name": "python3"
  },
  "language_info": {
   "codemirror_mode": {
    "name": "ipython",
    "version": 3
   },
   "file_extension": ".py",
   "mimetype": "text/x-python",
   "name": "python",
   "nbconvert_exporter": "python",
   "pygments_lexer": "ipython3",
   "version": "3.12.3"
  }
 },
 "nbformat": 4,
 "nbformat_minor": 2
}
