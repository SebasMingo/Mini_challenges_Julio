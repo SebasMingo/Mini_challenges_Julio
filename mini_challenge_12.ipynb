{
 "cells": [
  {
   "cell_type": "markdown",
   "metadata": {},
   "source": [
    "Figura y Círculo: Crea una clase base Figura con un método imprimir y una clase derivada Círculo que extienda Figura y sobreescriba el método imprimir."
   ]
  },
  {
   "cell_type": "code",
   "execution_count": 1,
   "metadata": {},
   "outputs": [
    {
     "name": "stdout",
     "output_type": "stream",
     "text": [
      "Soy una figura\n",
      "Soy un círculo con radio 5\n"
     ]
    }
   ],
   "source": [
    "class Figura:\n",
    "    def imprimir(self):\n",
    "        print(\"Soy una figura\")\n",
    "\n",
    "class Circulo(Figura):\n",
    "    def __init__(self, radio):\n",
    "        self.radio = radio\n",
    "\n",
    "    def imprimir(self):\n",
    "        print(f'Soy un círculo con radio {self.radio}')\n",
    "\n",
    "# Crear una instancia de Figura\n",
    "figura = Figura()\n",
    "figura.imprimir()  # Debería imprimir: Soy una figura\n",
    "\n",
    "# Crear una instancia de Circulo\n",
    "circulo = Circulo(5)\n",
    "circulo.imprimir()  # Debería imprimir: Soy un círculo con radio 5\n"
   ]
  }
 ],
 "metadata": {
  "kernelspec": {
   "display_name": "Python 3",
   "language": "python",
   "name": "python3"
  },
  "language_info": {
   "codemirror_mode": {
    "name": "ipython",
    "version": 3
   },
   "file_extension": ".py",
   "mimetype": "text/x-python",
   "name": "python",
   "nbconvert_exporter": "python",
   "pygments_lexer": "ipython3",
   "version": "3.12.3"
  }
 },
 "nbformat": 4,
 "nbformat_minor": 2
}
