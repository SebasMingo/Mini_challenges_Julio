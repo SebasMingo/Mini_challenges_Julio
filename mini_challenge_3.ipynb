{
 "cells": [
  {
   "cell_type": "markdown",
   "metadata": {},
   "source": [
    "Recorrido en profundidad (DFS): Implementa un recorrido DFS para un grafo simple con 5 nodos."
   ]
  },
  {
   "cell_type": "code",
   "execution_count": 1,
   "metadata": {},
   "outputs": [
    {
     "name": "stdout",
     "output_type": "stream",
     "text": [
      "0 1 3 4 2 "
     ]
    }
   ],
   "source": [
    "def dfs(grafo, inicio, visitado=None):\n",
    "    if visitado is None:\n",
    "        visitado = set()\n",
    "    visitado.add(inicio)\n",
    "    print(inicio, end=' ')\n",
    "    for vecino in grafo[inicio]:\n",
    "        if vecino not in visitado:\n",
    "            dfs(grafo, vecino, visitado)\n",
    "\n",
    "# Grafo con 5 nodos\n",
    "grafo = {\n",
    "    0: [1, 2],\n",
    "    1: [0, 3, 4],\n",
    "    2: [0],\n",
    "    3: [1],\n",
    "    4: [1]\n",
    "}\n",
    "\n",
    "dfs(grafo, 0)\n"
   ]
  }
 ],
 "metadata": {
  "kernelspec": {
   "display_name": "Python 3",
   "language": "python",
   "name": "python3"
  },
  "language_info": {
   "codemirror_mode": {
    "name": "ipython",
    "version": 3
   },
   "file_extension": ".py",
   "mimetype": "text/x-python",
   "name": "python",
   "nbconvert_exporter": "python",
   "pygments_lexer": "ipython3",
   "version": "3.12.3"
  }
 },
 "nbformat": 4,
 "nbformat_minor": 2
}
