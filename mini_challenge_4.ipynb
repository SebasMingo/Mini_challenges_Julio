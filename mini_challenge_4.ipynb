{
 "cells": [
  {
   "cell_type": "markdown",
   "metadata": {},
   "source": [
    "Recorrido en amplitud (BFS): Implementa un recorrido BFS para un grafo simple con 5 nodos."
   ]
  },
  {
   "cell_type": "code",
   "execution_count": 2,
   "metadata": {},
   "outputs": [
    {
     "name": "stdout",
     "output_type": "stream",
     "text": [
      "0 1 2 3 4 "
     ]
    }
   ],
   "source": [
    "from collections import deque\n",
    "\n",
    "def bfs(grafo, inicio):\n",
    "    visitado = set()  # Conjunto para rastrear nodos visitados\n",
    "    cola = deque([inicio])  # Cola para el recorrido BFS\n",
    "    visitado.add(inicio)  # Marcar el nodo inicial como visitado\n",
    "    \n",
    "    while cola:\n",
    "        nodo = cola.popleft()  # Sacar el nodo de la cola\n",
    "        print(nodo, end=' ')  # Imprimir el nodo visitado\n",
    "        \n",
    "        # Recorrer los vecinos del nodo actual\n",
    "        for vecino in grafo[nodo]:\n",
    "            if vecino not in visitado:  # Si el vecino no ha sido visitado\n",
    "                visitado.add(vecino)  # Marcar como visitado\n",
    "                cola.append(vecino)  # Agregar a la cola para explorar más tarde\n",
    "\n",
    "# Grafo con 5 nodos\n",
    "grafo = {\n",
    "    0: [1, 2],\n",
    "    1: [0, 3, 4],\n",
    "    2: [0, 4],\n",
    "    3: [1],\n",
    "    4: [1, 2]\n",
    "}\n",
    "\n",
    "bfs(grafo, 0)\n"
   ]
  }
 ],
 "metadata": {
  "kernelspec": {
   "display_name": "Python 3",
   "language": "python",
   "name": "python3"
  },
  "language_info": {
   "codemirror_mode": {
    "name": "ipython",
    "version": 3
   },
   "file_extension": ".py",
   "mimetype": "text/x-python",
   "name": "python",
   "nbconvert_exporter": "python",
   "pygments_lexer": "ipython3",
   "version": "3.12.3"
  }
 },
 "nbformat": 4,
 "nbformat_minor": 2
}
