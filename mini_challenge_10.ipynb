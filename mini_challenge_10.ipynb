{
 "cells": [
  {
   "cell_type": "markdown",
   "metadata": {},
   "source": [
    "Eliminar duplicados: Implementa una función que elimine los elementos duplicados de una lista de 10 enteros."
   ]
  },
  {
   "cell_type": "code",
   "execution_count": 1,
   "metadata": {},
   "outputs": [
    {
     "name": "stdout",
     "output_type": "stream",
     "text": [
      "Lista original: [1, 2, 2, 3, 4, 4, 5, 6, 7, 7]\n",
      "Lista sin duplicados: [1, 2, 3, 4, 5, 6, 7]\n"
     ]
    }
   ],
   "source": [
    "def eliminar_duplicados(lista):\n",
    "    # Usar un conjunto para eliminar duplicados y luego convertirlo de nuevo a lista\n",
    "    lista_sin_duplicados = list(set(lista))\n",
    "    return lista_sin_duplicados\n",
    "\n",
    "# Lista de ejemplo con 10 enteros, algunos duplicados\n",
    "lista = [1, 2, 2, 3, 4, 4, 5, 6, 7, 7]\n",
    "\n",
    "# Eliminar duplicados\n",
    "resultado = eliminar_duplicados(lista)\n",
    "print(f'Lista original: {lista}')\n",
    "print(f'Lista sin duplicados: {resultado}')\n"
   ]
  }
 ],
 "metadata": {
  "kernelspec": {
   "display_name": "Python 3",
   "language": "python",
   "name": "python3"
  },
  "language_info": {
   "codemirror_mode": {
    "name": "ipython",
    "version": 3
   },
   "file_extension": ".py",
   "mimetype": "text/x-python",
   "name": "python",
   "nbconvert_exporter": "python",
   "pygments_lexer": "ipython3",
   "version": "3.12.3"
  }
 },
 "nbformat": 4,
 "nbformat_minor": 2
}
