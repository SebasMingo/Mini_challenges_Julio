{
 "cells": [
  {
   "cell_type": "markdown",
   "metadata": {},
   "source": [
    "Camino más corto: Dado un grafo pequeño con 5 nodos y 6 aristas, escribe una función que encuentre el camino más corto entre dos nodos especificados usando cualquier método que prefieras."
   ]
  },
  {
   "cell_type": "code",
   "execution_count": 1,
   "metadata": {},
   "outputs": [
    {
     "name": "stdout",
     "output_type": "stream",
     "text": [
      "[(0, 0), (0, 1), (0, 2), (1, 2)]\n"
     ]
    }
   ],
   "source": [
    "import heapq\n",
    "\n",
    "def a_estrella(grafo, heuristica, inicio, objetivo):\n",
    "    # Cola de prioridad para explorar nodos con menor costo total primero\n",
    "    open_set = []\n",
    "    heapq.heappush(open_set, (0, inicio))\n",
    "    \n",
    "    # Diccionario para rastrear el costo más bajo conocido para alcanzar cada nodo\n",
    "    costos = {inicio: 0}\n",
    "    \n",
    "    # Diccionario para rastrear el camino más eficiente conocido\n",
    "    came_from = {inicio: None}\n",
    "    \n",
    "    while open_set:\n",
    "        _, nodo_actual = heapq.heappop(open_set)\n",
    "        \n",
    "        # Si alcanzamos el objetivo, reconstruimos el camino\n",
    "        if nodo_actual == objetivo:\n",
    "            camino = []\n",
    "            while nodo_actual:\n",
    "                camino.append(nodo_actual)\n",
    "                nodo_actual = came_from[nodo_actual]\n",
    "            return camino[::-1]  # Devuelve el camino en orden inverso\n",
    "        \n",
    "        # Explora los vecinos del nodo actual\n",
    "        for vecino, costo in grafo[nodo_actual].items():\n",
    "            costo_g = costos[nodo_actual] + costo  # Costo acumulado para llegar al vecino\n",
    "            if vecino not in costos or costo_g < costos[vecino]:\n",
    "                costos[vecino] = costo_g\n",
    "                costo_f = costo_g + heuristica(vecino, objetivo)  # Costo total estimado (f = g + h)\n",
    "                heapq.heappush(open_set, (costo_f, vecino))\n",
    "                came_from[vecino] = nodo_actual\n",
    "    \n",
    "    return None  # Si no se encuentra el camino, devuelve None\n",
    "\n",
    "# Funcion heurística (distancia de Manhattan)\n",
    "def heuristica(nodo, objetivo):\n",
    "    # Nodo y objetivo son tuplas (x, y)\n",
    "    x1, y1 = nodo\n",
    "    x2, y2 = objetivo\n",
    "    return abs(x1 - x2) + abs(y1 - y2)\n",
    "\n",
    "# Ejemplo de uso\n",
    "grafo = {\n",
    "    (0, 0): {(0, 1): 1, (1, 0): 1},\n",
    "    (0, 1): {(0, 0): 1, (1, 1): 1, (0, 2): 1},\n",
    "    (1, 0): {(0, 0): 1, (1, 1): 1},\n",
    "    (1, 1): {(0, 1): 1, (1, 0): 1, (1, 2): 1},\n",
    "    (0, 2): {(0, 1): 1, (1, 2): 1},\n",
    "    (1, 2): {(1, 1): 1, (0, 2): 1}\n",
    "}\n",
    "\n",
    "inicio = (0, 0)\n",
    "objetivo = (1, 2)\n",
    "camino = a_estrella(grafo, heuristica, inicio, objetivo)\n",
    "print(camino)\n"
   ]
  }
 ],
 "metadata": {
  "kernelspec": {
   "display_name": "Python 3",
   "language": "python",
   "name": "python3"
  },
  "language_info": {
   "codemirror_mode": {
    "name": "ipython",
    "version": 3
   },
   "file_extension": ".py",
   "mimetype": "text/x-python",
   "name": "python",
   "nbconvert_exporter": "python",
   "pygments_lexer": "ipython3",
   "version": "3.12.3"
  }
 },
 "nbformat": 4,
 "nbformat_minor": 2
}
