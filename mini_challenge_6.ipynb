{
 "cells": [
  {
   "cell_type": "markdown",
   "metadata": {},
   "source": [
    "Árbol binario de búsqueda (BST): Implementa solo la inserción en un árbol binario de búsqueda para 5 elementos."
   ]
  },
  {
   "cell_type": "code",
   "execution_count": 3,
   "metadata": {},
   "outputs": [
    {
     "name": "stdout",
     "output_type": "stream",
     "text": [
      "Recorrido In-orden del BST: 3 5 7 10 20 "
     ]
    }
   ],
   "source": [
    "class Nodo:\n",
    "    def __init__(self, valor):\n",
    "        self.valor = valor\n",
    "        self.izquierda = None\n",
    "        self.derecha = None\n",
    "\n",
    "class BST:\n",
    "    def __init__(self):\n",
    "        self.raiz = None\n",
    "\n",
    "    def insertar(self, valor):\n",
    "        if self.raiz is None:\n",
    "            self.raiz = Nodo(valor)\n",
    "# Definir un nodo del árbol binario\n",
    "def crear_nodo(valor):\n",
    "    return {'valor': valor, 'izquierda': None, 'derecha': None}\n",
    "\n",
    "# Insertar un valor en el árbol binario de búsqueda\n",
    "def insertar(arbol, valor):\n",
    "    if arbol is None:\n",
    "        return crear_nodo(valor)\n",
    "    elif valor < arbol['valor']:\n",
    "        arbol['izquierda'] = insertar(arbol['izquierda'], valor)\n",
    "    else:\n",
    "        arbol['derecha'] = insertar(arbol['derecha'], valor)\n",
    "    return arbol\n",
    "\n",
    "# Recorrido en orden (inorder traversal) para verificar la estructura del árbol\n",
    "def recorrido_inorden(arbol):\n",
    "    if arbol is not None:\n",
    "        recorrido_inorden(arbol['izquierda'])\n",
    "        print(arbol['valor'], end=' ')\n",
    "        recorrido_inorden(arbol['derecha'])\n",
    "\n",
    "# Crear el árbol binario de búsqueda\n",
    "arbol = None\n",
    "\n",
    "# Insertar 5 elementos\n",
    "elementos = [10, 5, 20, 3, 7]\n",
    "for elemento in elementos:\n",
    "    arbol = insertar(arbol, elemento)\n",
    "\n",
    "# Realizar un recorrido en orden para verificar la estructura del árbol\n",
    "print(\"Recorrido In-orden del BST: \", end='')\n",
    "recorrido_inorden(arbol)\n",
    "\n"
   ]
  }
 ],
 "metadata": {
  "kernelspec": {
   "display_name": "Python 3",
   "language": "python",
   "name": "python3"
  },
  "language_info": {
   "codemirror_mode": {
    "name": "ipython",
    "version": 3
   },
   "file_extension": ".py",
   "mimetype": "text/x-python",
   "name": "python",
   "nbconvert_exporter": "python",
   "pygments_lexer": "ipython3",
   "version": "3.12.3"
  }
 },
 "nbformat": 4,
 "nbformat_minor": 2
}
