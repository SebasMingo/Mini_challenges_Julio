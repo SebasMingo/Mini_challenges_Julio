{
 "cells": [
  {
   "cell_type": "markdown",
   "metadata": {},
   "source": [
    "Polimorfismo: Crea una clase base Animal con un método hacerSonido y una clase derivada Perro que sobrescriba este método."
   ]
  },
  {
   "cell_type": "code",
   "execution_count": 1,
   "metadata": {},
   "outputs": [
    {
     "name": "stdout",
     "output_type": "stream",
     "text": [
      "El animal hace un sonido.\n",
      "El perro ladra: ¡Guau guau!\n"
     ]
    }
   ],
   "source": [
    "# Clase base Animal\n",
    "class Animal:\n",
    "    def hacerSonido(self):\n",
    "        print(\"El animal hace un sonido.\")\n",
    "\n",
    "# Clase derivada Perro\n",
    "class Perro(Animal):\n",
    "    def hacerSonido(self):\n",
    "        print(\"El perro ladra: ¡Guau guau!\")\n",
    "\n",
    "# Ejemplo de uso\n",
    "def hacer_sonido_animal(animal):\n",
    "    animal.hacerSonido()\n",
    "\n",
    "# Crear una instancia de la clase base\n",
    "animal = Animal()\n",
    "hacer_sonido_animal(animal)\n",
    "\n",
    "# Crear una instancia de la clase derivada\n",
    "perro = Perro()\n",
    "hacer_sonido_animal(perro)\n"
   ]
  }
 ],
 "metadata": {
  "kernelspec": {
   "display_name": "Python 3",
   "language": "python",
   "name": "python3"
  },
  "language_info": {
   "codemirror_mode": {
    "name": "ipython",
    "version": 3
   },
   "file_extension": ".py",
   "mimetype": "text/x-python",
   "name": "python",
   "nbconvert_exporter": "python",
   "pygments_lexer": "ipython3",
   "version": "3.12.3"
  }
 },
 "nbformat": 4,
 "nbformat_minor": 2
}
