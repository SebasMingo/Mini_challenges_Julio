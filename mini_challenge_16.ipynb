{
 "cells": [
  {
   "cell_type": "markdown",
   "metadata": {},
   "source": [
    "Formas geométricas: Define una clase base FormaGeometrica con métodos calcular_area y calcular_perimetro. Crea clases derivadas Rectangulo y Circulo que sobrescriban estos métodos."
   ]
  },
  {
   "cell_type": "code",
   "execution_count": 1,
   "metadata": {},
   "outputs": [
    {
     "name": "stdout",
     "output_type": "stream",
     "text": [
      "Área del rectángulo: 50\n",
      "Perímetro del rectángulo: 30\n",
      "Área del círculo: 153.93804002589985\n",
      "Perímetro del círculo: 43.982297150257104\n"
     ]
    }
   ],
   "source": [
    "import math\n",
    "\n",
    "# Clase base FormaGeometrica\n",
    "class FormaGeometrica:\n",
    "    def calcular_area(self):\n",
    "        # Método base para calcular el área, se sobrescribirá en las clases derivadas\n",
    "        pass\n",
    "\n",
    "    def calcular_perimetro(self):\n",
    "        # Método base para calcular el perímetro, se sobrescribirá en las clases derivadas\n",
    "        pass\n",
    "\n",
    "# Clase derivada Rectangulo\n",
    "class Rectangulo(FormaGeometrica):\n",
    "    def __init__(self, ancho, alto):\n",
    "        self.ancho = ancho\n",
    "        self.alto = alto\n",
    "\n",
    "    def calcular_area(self):\n",
    "        return self.ancho * self.alto\n",
    "\n",
    "    def calcular_perimetro(self):\n",
    "        return 2 * (self.ancho + self.alto)\n",
    "\n",
    "# Clase derivada Circulo\n",
    "class Circulo(FormaGeometrica):\n",
    "    def __init__(self, radio):\n",
    "        self.radio = radio\n",
    "\n",
    "    def calcular_area(self):\n",
    "        return math.pi * self.radio ** 2\n",
    "\n",
    "    def calcular_perimetro(self):\n",
    "        return 2 * math.pi * self.radio\n",
    "\n",
    "# Ejemplo de uso\n",
    "# Crear una instancia de Rectangulo\n",
    "rectangulo = Rectangulo(5, 10)\n",
    "print(f\"Área del rectángulo: {rectangulo.calcular_area()}\")\n",
    "print(f\"Perímetro del rectángulo: {rectangulo.calcular_perimetro()}\")\n",
    "\n",
    "# Crear una instancia de Circulo\n",
    "circulo = Circulo(7)\n",
    "print(f\"Área del círculo: {circulo.calcular_area()}\")\n",
    "print(f\"Perímetro del círculo: {circulo.calcular_perimetro()}\")\n"
   ]
  }
 ],
 "metadata": {
  "kernelspec": {
   "display_name": "Python 3",
   "language": "python",
   "name": "python3"
  },
  "language_info": {
   "codemirror_mode": {
    "name": "ipython",
    "version": 3
   },
   "file_extension": ".py",
   "mimetype": "text/x-python",
   "name": "python",
   "nbconvert_exporter": "python",
   "pygments_lexer": "ipython3",
   "version": "3.12.3"
  }
 },
 "nbformat": 4,
 "nbformat_minor": 2
}
